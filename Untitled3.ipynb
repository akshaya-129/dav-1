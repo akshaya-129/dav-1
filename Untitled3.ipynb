{
  "nbformat": 4,
  "nbformat_minor": 0,
  "metadata": {
    "colab": {
      "provenance": [],
      "authorship_tag": "ABX9TyOpNkBTd1a16jDcco6dmeS2",
      "include_colab_link": true
    },
    "kernelspec": {
      "name": "python3",
      "display_name": "Python 3"
    },
    "language_info": {
      "name": "python"
    }
  },
  "cells": [
    {
      "cell_type": "markdown",
      "metadata": {
        "id": "view-in-github",
        "colab_type": "text"
      },
      "source": [
        "<a href=\"https://colab.research.google.com/github/akshaya-129/dav-1/blob/main/Untitled3.ipynb\" target=\"_parent\"><img src=\"https://colab.research.google.com/assets/colab-badge.svg\" alt=\"Open In Colab\"/></a>"
      ]
    },
    {
      "cell_type": "code",
      "execution_count": 1,
      "metadata": {
        "colab": {
          "base_uri": "https://localhost:8080/"
        },
        "id": "pDM6ENkxfpa4",
        "outputId": "662b9f91-ccfa-491e-fb57-3be4880fb4f3"
      },
      "outputs": [
        {
          "output_type": "stream",
          "name": "stdout",
          "text": [
            "List: [1, 2, 'hello', True]\n"
          ]
        }
      ],
      "source": [
        "my_list = [1, 2, \"hello\", True]\n",
        "print(f\"List: {my_list}\")\n"
      ]
    },
    {
      "cell_type": "code",
      "source": [
        "empty_list = []\n",
        "print(f\"Empty List: {empty_list}\")"
      ],
      "metadata": {
        "colab": {
          "base_uri": "https://localhost:8080/"
        },
        "id": "-QLh1dYEf4p6",
        "outputId": "627d3d1b-9fe1-43ab-9e32-e983011eb407"
      },
      "execution_count": 2,
      "outputs": [
        {
          "output_type": "stream",
          "name": "stdout",
          "text": [
            "Empty List: []\n"
          ]
        }
      ]
    },
    {
      "cell_type": "code",
      "source": [
        "list_from_range = list(range(1, 5))\n",
        "print(f\"List from range: {list_from_range}\")\n"
      ],
      "metadata": {
        "colab": {
          "base_uri": "https://localhost:8080/"
        },
        "id": "D1b5njSrf8i4",
        "outputId": "edda8e8e-d063-4385-d015-06ec7022049a"
      },
      "execution_count": 3,
      "outputs": [
        {
          "output_type": "stream",
          "name": "stdout",
          "text": [
            "List from range: [1, 2, 3, 4]\n"
          ]
        }
      ]
    },
    {
      "cell_type": "code",
      "source": [
        "my_tuple = (10, 20, \"world\", False)\n",
        "print(f\"Tuple: {my_tuple}\")\n"
      ],
      "metadata": {
        "colab": {
          "base_uri": "https://localhost:8080/"
        },
        "id": "aHaVovhSgAL3",
        "outputId": "702a5b04-0490-41fc-ba06-6229d8f39f82"
      },
      "execution_count": 4,
      "outputs": [
        {
          "output_type": "stream",
          "name": "stdout",
          "text": [
            "Tuple: (10, 20, 'world', False)\n"
          ]
        }
      ]
    },
    {
      "cell_type": "code",
      "source": [
        "empty_tuple = ()\n",
        "print(f\"Empty Tuple: {empty_tuple}\")\n"
      ],
      "metadata": {
        "colab": {
          "base_uri": "https://localhost:8080/"
        },
        "id": "qUFECKbmgDJa",
        "outputId": "01fcc1e4-8f69-4c37-c62e-6305f9627d42"
      },
      "execution_count": 5,
      "outputs": [
        {
          "output_type": "stream",
          "name": "stdout",
          "text": [
            "Empty Tuple: ()\n"
          ]
        }
      ]
    },
    {
      "cell_type": "code",
      "source": [
        "single_element_tuple = (5,)\n",
        "print(f\"Single element tuple: {single_element_tuple}\")"
      ],
      "metadata": {
        "colab": {
          "base_uri": "https://localhost:8080/"
        },
        "id": "NVw8-GPSgH93",
        "outputId": "8ab10bd1-292b-46ba-aae2-ccaad56614a9"
      },
      "execution_count": 6,
      "outputs": [
        {
          "output_type": "stream",
          "name": "stdout",
          "text": [
            "Single element tuple: (5,)\n"
          ]
        }
      ]
    },
    {
      "cell_type": "code",
      "source": [
        "tuple_from_list = tuple([1, 2, 3])\n",
        "print(f\"Tuple from list: {tuple_from_list}\")\n"
      ],
      "metadata": {
        "colab": {
          "base_uri": "https://localhost:8080/"
        },
        "id": "65MLOBBKgLVz",
        "outputId": "d12bc2f8-f004-4583-bffa-1655d2757967"
      },
      "execution_count": 7,
      "outputs": [
        {
          "output_type": "stream",
          "name": "stdout",
          "text": [
            "Tuple from list: (1, 2, 3)\n"
          ]
        }
      ]
    },
    {
      "cell_type": "code",
      "source": [
        "my_dict = {\"name\": \"Alice\", \"age\": 30, \"city\": \"New York\"}\n",
        "print(f\"Dictionary: {my_dict}\")\n"
      ],
      "metadata": {
        "colab": {
          "base_uri": "https://localhost:8080/"
        },
        "id": "gcHGmSWugOy8",
        "outputId": "2069303e-9985-4cf7-8ce9-d3b029e08001"
      },
      "execution_count": 8,
      "outputs": [
        {
          "output_type": "stream",
          "name": "stdout",
          "text": [
            "Dictionary: {'name': 'Alice', 'age': 30, 'city': 'New York'}\n"
          ]
        }
      ]
    },
    {
      "cell_type": "code",
      "source": [
        "empty_dict = {}\n",
        "print(f\"Empty Dictionary: {empty_dict}\")\n"
      ],
      "metadata": {
        "colab": {
          "base_uri": "https://localhost:8080/"
        },
        "id": "SK3u2KJ9gTMr",
        "outputId": "dfef4055-10c2-4540-8e62-4d16fe8661e6"
      },
      "execution_count": 9,
      "outputs": [
        {
          "output_type": "stream",
          "name": "stdout",
          "text": [
            "Empty Dictionary: {}\n"
          ]
        }
      ]
    },
    {
      "cell_type": "code",
      "source": [
        "dict_from_kwargs = dict(fruit=\"apple\", color=\"red\")\n",
        "print(f\"Dictionary from kwargs: {dict_from_kwargs}\")"
      ],
      "metadata": {
        "colab": {
          "base_uri": "https://localhost:8080/"
        },
        "id": "HJ76wse9gWL_",
        "outputId": "0a8df130-321b-4c5f-e53f-3406e06fd14b"
      },
      "execution_count": 10,
      "outputs": [
        {
          "output_type": "stream",
          "name": "stdout",
          "text": [
            "Dictionary from kwargs: {'fruit': 'apple', 'color': 'red'}\n"
          ]
        }
      ]
    },
    {
      "cell_type": "code",
      "source": [
        "dict_from_tuples = dict([(\"a\", 1), (\"b\", 2)])\n",
        "print(f\"Dictionary from tuples: {dict_from_tuples}\")\n"
      ],
      "metadata": {
        "colab": {
          "base_uri": "https://localhost:8080/"
        },
        "id": "MeCGjzLQgaoH",
        "outputId": "0e720a1a-c837-447c-e150-d163f3509950"
      },
      "execution_count": 11,
      "outputs": [
        {
          "output_type": "stream",
          "name": "stdout",
          "text": [
            "Dictionary from tuples: {'a': 1, 'b': 2}\n"
          ]
        }
      ]
    },
    {
      "cell_type": "code",
      "source": [
        "import pandas as pd\n",
        "data_dict = {\n",
        "    \"Name\": [\"Alice\", \"Bob\", \"Charlie\"],\n",
        "    \"Age\": [25, 30, 35],\n",
        "    \"City\": [\"London\", \"Paris\", \"Rome\"]\n",
        "}\n",
        "df_from_dict = pd.DataFrame(data_dict)\n",
        "print(\"\\nDataFrame from Dictionary:\")\n",
        "print(df_from_dict)"
      ],
      "metadata": {
        "colab": {
          "base_uri": "https://localhost:8080/"
        },
        "id": "CxLXuTvOgejx",
        "outputId": "1212856b-1b40-4ec0-ebc4-b9ba21b66d57"
      },
      "execution_count": 12,
      "outputs": [
        {
          "output_type": "stream",
          "name": "stdout",
          "text": [
            "\n",
            "DataFrame from Dictionary:\n",
            "      Name  Age    City\n",
            "0    Alice   25  London\n",
            "1      Bob   30   Paris\n",
            "2  Charlie   35    Rome\n"
          ]
        }
      ]
    },
    {
      "cell_type": "code",
      "source": [
        "data_list_of_lists = [\n",
        "    [\"David\", 40, \"Berlin\"],\n",
        "    [\"Eve\", 28, \"Tokyo\"]\n",
        "]\n",
        "df_from_list_of_lists = pd.DataFrame(data_list_of_lists, columns=[\"Name\", \"Age\", \"City\"])\n",
        "print(\"\\nDataFrame from List of Lists:\")\n",
        "print(df_from_list_of_lists)"
      ],
      "metadata": {
        "colab": {
          "base_uri": "https://localhost:8080/"
        },
        "id": "_sBh0k48gkuL",
        "outputId": "2bc13e0e-3aca-42dc-afbc-161724dac537"
      },
      "execution_count": 13,
      "outputs": [
        {
          "output_type": "stream",
          "name": "stdout",
          "text": [
            "\n",
            "DataFrame from List of Lists:\n",
            "    Name  Age    City\n",
            "0  David   40  Berlin\n",
            "1    Eve   28   Tokyo\n"
          ]
        }
      ]
    },
    {
      "cell_type": "code",
      "source": [
        "empty_df = pd.DataFrame()\n",
        "print(f\"\\nEmpty DataFrame:\\n{empty_df}\")"
      ],
      "metadata": {
        "colab": {
          "base_uri": "https://localhost:8080/"
        },
        "id": "WECYtFJPgopi",
        "outputId": "5fc1bad7-59ca-499f-bc45-6f9ea18f3276"
      },
      "execution_count": 14,
      "outputs": [
        {
          "output_type": "stream",
          "name": "stdout",
          "text": [
            "\n",
            "Empty DataFrame:\n",
            "Empty DataFrame\n",
            "Columns: []\n",
            "Index: []\n"
          ]
        }
      ]
    }
  ]
}